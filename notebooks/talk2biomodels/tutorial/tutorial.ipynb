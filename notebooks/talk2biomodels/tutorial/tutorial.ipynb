{
 "cells": [
  {
   "cell_type": "markdown",
   "metadata": {},
   "source": [
    "### Tutorial\n",
    "\n",
    "This tutorial will walk you through the process of getting started with the useage of different tools to operate with Systems biology models. It includes installation instructions, a quick start guide, and an overview of how to integrate and use the tool in your projects."
   ]
  },
  {
   "cell_type": "markdown",
   "metadata": {},
   "source": [
    "#### Install aiagents4pharma\n",
    "To begin, you need to install the aiagents4pharma package, which includes the search_models tool for querying biological models.\n",
    "\n",
    "Use the following command to install the package via pip:"
   ]
  },
  {
   "cell_type": "code",
   "execution_count": 103,
   "metadata": {},
   "outputs": [],
   "source": [
    "# !pip install aiagents4pharma \n",
    "#This will install the aiagents4pharma library and all its dependencies."
   ]
  },
  {
   "cell_type": "markdown",
   "metadata": {},
   "source": [
    "#### Set up your API key"
   ]
  },
  {
   "cell_type": "markdown",
   "metadata": {},
   "source": [
    "Before using the model tools, you need to authenticate using an API key. You can either store the API key in an environment variable or set it directly in your notebook/script."
   ]
  },
  {
   "cell_type": "markdown",
   "metadata": {},
   "source": [
    "##### Option 1 : Retrieve API Key from Environment Variable"
   ]
  },
  {
   "cell_type": "code",
   "execution_count": 104,
   "metadata": {},
   "outputs": [],
   "source": [
    "import os\n",
    "import openai \n",
    "\n",
    "# Retrieve API key from environment variable\n",
    "openai.api_key = os.getenv(\"OPENAI_API_KEY\")"
   ]
  },
  {
   "cell_type": "markdown",
   "metadata": {},
   "source": [
    "##### Option 2: Store API Key Directly in the Script (Temporary)"
   ]
  },
  {
   "cell_type": "code",
   "execution_count": null,
   "metadata": {},
   "outputs": [],
   "source": [
    "import os\n",
    "\n",
    "os.environ[\"OPENAI_API_KEY\"] = \"your_api_key\"\n",
    "# Make sure to replace \"your_api_key\" with your actual API key."
   ]
  },
  {
   "cell_type": "markdown",
   "metadata": {},
   "source": [
    "***Once you have the package installed and the API key set up, you can start using the model tools to query biological models. Here's how you can get started quickly:***\n",
    "\n",
    "#### Invoke the search_models Tool\n",
    "\n",
    "1. Import Required Packages\n",
    "\n",
    "    This imports the SearchModelsTool class from the aiagents4pharma package."
   ]
  },
  {
   "cell_type": "code",
   "execution_count": 106,
   "metadata": {},
   "outputs": [],
   "source": [
    "# Import the `SearchModelsTool` class from search_models.py\n",
    "from aiagents4pharma.talk2biomodels.tools.search_models import SearchModelsTool"
   ]
  },
  {
   "cell_type": "markdown",
   "metadata": {},
   "source": [
    "2. Initialize the Search Models Tool\n",
    "\n",
    "    This creates an instance of the SearchModelsTool which you will use to search for biological models."
   ]
  },
  {
   "cell_type": "code",
   "execution_count": 107,
   "metadata": {},
   "outputs": [],
   "source": [
    "# Initialize the SearchModelsTool\n",
    "search_tool = SearchModelsTool()"
   ]
  },
  {
   "cell_type": "markdown",
   "metadata": {},
   "source": [
    "3. Run the Search Models Tool\n",
    "\n",
    "    In this example, we are searching for models related to Crohn's disease. You can replace the query with any disease or biological term you're interested in."
   ]
  },
  {
   "cell_type": "code",
   "execution_count": 108,
   "metadata": {},
   "outputs": [],
   "source": [
    "# Define the search query as follows\n",
    "query = \"crohn's disease\"\n",
    "\n",
    "# Run the tool with the query\n",
    "search_results = search_tool.invoke(input={\"query\": query})"
   ]
  },
  {
   "cell_type": "markdown",
   "metadata": {},
   "source": [
    "4. Display the Results\n",
    "\n",
    "    To view the results, simply print them\n",
    "\n",
    "    The search results will be displayed in a table format containing the Model ID, Model Name, Format, and Submission Date."
   ]
  },
  {
   "cell_type": "code",
   "execution_count": 109,
   "metadata": {},
   "outputs": [
    {
     "name": "stdout",
     "output_type": "stream",
     "text": [
      "| #  | BioModel ID                                          | BioModel Name                                                                                                   | Format | Submission Date |\n",
      "|----|------------------------------------------------------|-----------------------------------------------------------------------------------------------------------------|--------|------------------|\n",
      "| 1  | [BIOMD0000000534](https://www.ebi.ac.uk/biomodels/BIOMD0000000534) | Dwivedi2014 - Healthy Volunteer IL6 Model                                                                     | SBML   | 2014-08-04       |\n",
      "| 2  | [BIOMD0000000535](https://www.ebi.ac.uk/biomodels/BIOMD0000000535) | Dwivedi2014 - Crohns IL6 Disease model - Anti-IL6 Antibody                                                   | SBML   | 2014-08-04       |\n",
      "| 3  | [BIOMD0000000536](https://www.ebi.ac.uk/biomodels/BIOMD0000000536) | Dwivedi2014 - Crohns IL6 Disease model - sgp130 activity                                                     | SBML   | 2014-08-04       |\n",
      "| 4  | [BIOMD0000000537](https://www.ebi.ac.uk/biomodels/BIOMD0000000537) | Dwivedi2014 - Crohns IL6 Disease model - Anti-IL6R Antibody                                                  | SBML   | 2014-08-04       |\n",
      "| 5  | [MODEL1109130000](https://www.ebi.ac.uk/biomodels/MODEL1109130000) | Thiele2013 - Human metabolism global reconstruction (Recon 2)                                                 | SBML   | 2011-09-12       |\n",
      "| 6  | [MODEL1311110000](https://www.ebi.ac.uk/biomodels/MODEL1311110000) | Smallbone2013 - Human metabolism global reconstruction (recon 2.1)                                            | SBML   | 2013-11-11       |\n",
      "| 7  | [MODEL1311110001](https://www.ebi.ac.uk/biomodels/MODEL1311110001) | Smallbone2013 - Human metabolism global reconstruction (recon 2.1x)                                           | SBML   | 2013-11-11       |\n",
      "| 8  | [MODEL1703310000](https://www.ebi.ac.uk/biomodels/MODEL1703310000) | MODEL1703310000_url.xml                                                                                       | SBML   | 2017-03-30       |\n",
      "| 9  | [MODEL2001290001](https://www.ebi.ac.uk/biomodels/MODEL2001290001) | AhmedMobeen2021 - NF-kB Activation Model                                                                       | SBML   | 2020-01-29       |\n",
      "| 10 | [MODEL2101150001](https://www.ebi.ac.uk/biomodels/MODEL2101150001) | Corral2021 - Interplay between SMAD2 and STAT5A regulating IL-17A/F expression in Th cells.                   | SBML   | 2021-01-15       |\n"
     ]
    }
   ],
   "source": [
    "print(search_results)"
   ]
  },
  {
   "cell_type": "markdown",
   "metadata": {},
   "source": [
    "#### Invoke the model_description tool"
   ]
  },
  {
   "cell_type": "markdown",
   "metadata": {},
   "source": [
    "1. Import Required Modules\n",
    "\n",
    "    The purpose of this step is to import the necessary classes to work with biological models. The ModelDescriptionTool is used to query and retrieve information about a biological model, and ModelData is a helper class to provide the model's details like its ID or file path. These imports are essential for interacting with the tool."
   ]
  },
  {
   "cell_type": "code",
   "execution_count": 110,
   "metadata": {},
   "outputs": [],
   "source": [
    "from aiagents4pharma.talk2biomodels.tools.model_description import ModelDescriptionTool,ModelData"
   ]
  },
  {
   "cell_type": "markdown",
   "metadata": {},
   "source": [
    "2. Initialize the Tool\n",
    "\n",
    "    This step initializes the ModelDescriptionTool, which will allow you to interact with the BioModels database. It sets up the tool to process your questions and fetch the relevant answers from the specified model."
   ]
  },
  {
   "cell_type": "code",
   "execution_count": 111,
   "metadata": {},
   "outputs": [],
   "source": [
    "tool = ModelDescriptionTool()"
   ]
  },
  {
   "cell_type": "markdown",
   "metadata": {},
   "source": [
    "3. Define the Model Data\n",
    "\n",
    "    The purpose of defining the model data is to specify the biological model you want to work with. By providing the modelid, you indicate which model from the BioModels database the tool should analyze. Alternatively, you can use the sbml_file_path to load a local SBML file, but here we focus on using a BioModels ID."
   ]
  },
  {
   "cell_type": "code",
   "execution_count": 112,
   "metadata": {},
   "outputs": [],
   "source": [
    "model_data = ModelData(\n",
    "    modelid=537,  # Use a valid BioModels ID\n",
    "    sbml_file_path=None\n",
    ")"
   ]
  },
  {
   "cell_type": "markdown",
   "metadata": {},
   "source": [
    "4. Prepare Input, Invoke the Tool, and Display the Result\n",
    "\n",
    "    In this step, you define a question about the biological model and link it to the specified model data. The input is processed by the tool's invoke method, which retrieves the relevant information, and the response is displayed, providing a clear answer to your query"
   ]
  },
  {
   "cell_type": "code",
   "execution_count": 113,
   "metadata": {},
   "outputs": [
    {
     "name": "stdout",
     "output_type": "stream",
     "text": [
      "None st_session_key\n",
      "Response: This model simulates the interleukin-6 (IL-6)-mediated immune regulation in Crohn's disease. Specifically, it integrates intracellular signaling with organ-level dynamics of pharmacological markers underlying the disease. The model focuses on the differential activity of ligands on the signaling of IL-6, which in turn affects the Signal Transducer and Activator of Transcription 3 (STAT3) activity leading to the production of the biomarker C-Reactive Protein (CRP) expression.\n"
     ]
    }
   ],
   "source": [
    "input_data = {\n",
    "    \"question\": \"What biological processes does this model simulate?\",\n",
    "    \"sys_bio_model\": model_data\n",
    "}\n",
    "response = tool.invoke(input=input_data)\n",
    "print(\"Response:\", response)\n"
   ]
  },
  {
   "cell_type": "markdown",
   "metadata": {},
   "source": [
    "As you can see, the query's answer is displayed in a clear and well-structured format."
   ]
  },
  {
   "cell_type": "markdown",
   "metadata": {},
   "source": [
    "#### Invoke the simulate_model tool\n",
    "\n",
    "Simulation allows us to run virtual experiments on biological systems. Instead of conducting physical experiments in the lab, we can use computational models to predict how a system behaves under specific conditions.\n",
    "\n",
    "**Let's simulate a virtual patient with a CRP value of 100 and observe the results over time**"
   ]
  },
  {
   "cell_type": "markdown",
   "metadata": {},
   "source": [
    "1. Import Required Packages"
   ]
  },
  {
   "cell_type": "code",
   "execution_count": 114,
   "metadata": {},
   "outputs": [],
   "source": [
    "from aiagents4pharma.talk2biomodels.tools.simulate_model import SimulateModelTool,TimeData,SpeciesData,TimeSpeciesNameConcentration\n",
    "import streamlit as st"
   ]
  },
  {
   "cell_type": "markdown",
   "metadata": {},
   "source": [
    "SimulateModelTool: The main tool for running model simulations.\n",
    "\n",
    "TimeData, SpeciesData, TimeSpeciesNameConcentration: Helper classes to define time, species, and recurring data.\n",
    "\n",
    "streamlit: A Python library for building web applications, used here to manage session data and visualize results."
   ]
  },
  {
   "cell_type": "markdown",
   "metadata": {},
   "source": [
    "2. Initialize the Tool\n",
    "\n",
    "    Create an instance of the SimulateModelTool."
   ]
  },
  {
   "cell_type": "code",
   "execution_count": 115,
   "metadata": {},
   "outputs": [
    {
     "name": "stderr",
     "output_type": "stream",
     "text": [
      "2024-12-10 15:44:56.926 Thread 'MainThread': missing ScriptRunContext! This warning can be ignored when running in bare mode.\n",
      "2024-12-10 15:44:56.929 Thread 'MainThread': missing ScriptRunContext! This warning can be ignored when running in bare mode.\n"
     ]
    }
   ],
   "source": [
    "\n",
    "st.session_state[\"test_key\"] = None"
   ]
  },
  {
   "cell_type": "markdown",
   "metadata": {},
   "source": [
    "st.session_state: Stores data during the session. Here, we initialize it with a key (test_key) to save simulation results."
   ]
  },
  {
   "cell_type": "code",
   "execution_count": 116,
   "metadata": {},
   "outputs": [],
   "source": [
    "simulate_tool = SimulateModelTool(return_direct=True,st_session_key=\"test_key\")"
   ]
  },
  {
   "cell_type": "markdown",
   "metadata": {},
   "source": [
    "simulate_tool: Initializes the simulation tool and links it to the Streamlit session using st_session_key."
   ]
  },
  {
   "cell_type": "markdown",
   "metadata": {},
   "source": [
    "3. Define the Input Data\n",
    "\n",
    "    Define the input data for the simulation in a structured format. You'll provide the model data, time data, species data, and recurring events (if any)."
   ]
  },
  {
   "cell_type": "code",
   "execution_count": 117,
   "metadata": {},
   "outputs": [],
   "source": [
    "# Define time data\n",
    "model_data=ModelData(\n",
    "        modelid= 537,  # Use a valid BioModels ID\n",
    "        sbml_file_path=None\n",
    ")\n",
    "time_data = TimeData(\n",
    "    duration=10.0,  # Duration of the simulation\n",
    "    interval=1000     # Interval between time steps\n",
    ")\n",
    "\n",
    "# Define species data\n",
    "species_data = SpeciesData(\n",
    "    species_name=[\"CRP{serum}\"],\n",
    "    species_concentration=[100.0]\n",
    ")\n",
    "\n",
    "# Define recurring data\n",
    "new_data = [\n",
    "    TimeSpeciesNameConcentration(time=5.0, species_name=\"CRP{serum}\", species_concentration=100.0)\n",
    "]"
   ]
  },
  {
   "cell_type": "markdown",
   "metadata": {},
   "source": [
    "In this simulation, we initially set the concentration of CRP[serum] to 100 at the timestamp 5.0."
   ]
  },
  {
   "cell_type": "markdown",
   "metadata": {},
   "source": [
    "4. Run the Simulation Using invoke\n",
    "\n",
    "    Now, run the simulation using the invoke method. This method will use the structured input data to execute the simulation."
   ]
  },
  {
   "cell_type": "code",
   "execution_count": 118,
   "metadata": {},
   "outputs": [
    {
     "name": "stderr",
     "output_type": "stream",
     "text": [
      "2024-12-10 15:44:56.968 Thread 'MainThread': missing ScriptRunContext! This warning can be ignored when running in bare mode.\n",
      "2024-12-10 15:44:56.971 Thread 'MainThread': missing ScriptRunContext! This warning can be ignored when running in bare mode.\n",
      "2024-12-10 15:44:58.970 Thread 'MainThread': missing ScriptRunContext! This warning can be ignored when running in bare mode.\n",
      "2024-12-10 15:44:58.970 Thread 'MainThread': missing ScriptRunContext! This warning can be ignored when running in bare mode.\n"
     ]
    }
   ],
   "source": [
    "reponse = simulate_tool.invoke(input ={\n",
    "    \"model_data\": {\"modelid\" : model_data.modelid},\n",
    "    \"time_data\": {\"duration\" : time_data.duration,\n",
    "                    \"interval\" : time_data.interval},\n",
    "    \"species_data\" : {\"species_name\" : species_data.species_name,\n",
    "                    \"species_concentration\" : species_data.species_concentration},\n",
    "    \"recurring_data\"  : {\"data\": new_data}\n",
    "    })"
   ]
  },
  {
   "cell_type": "markdown",
   "metadata": {},
   "source": [
    "5. Display the Results\n",
    "\n",
    "    Finally, display the simulation results in the Jupyter notebook using print."
   ]
  },
  {
   "cell_type": "code",
   "execution_count": 119,
   "metadata": {},
   "outputs": [
    {
     "name": "stderr",
     "output_type": "stream",
     "text": [
      "2024-12-10 15:44:59.312 Thread 'MainThread': missing ScriptRunContext! This warning can be ignored when running in bare mode.\n"
     ]
    }
   ],
   "source": [
    "df =st.session_state[\"test_key\"].simulation_results\n",
    "# Retrieve and display simulation results from st.session_state"
   ]
  },
  {
   "cell_type": "code",
   "execution_count": 120,
   "metadata": {},
   "outputs": [],
   "source": [
    "df_ = df[[\"Time\",\"CRP[serum]\"]]\n",
    "# For example, the  rows of CRP concentration can be shown"
   ]
  },
  {
   "cell_type": "code",
   "execution_count": 121,
   "metadata": {},
   "outputs": [
    {
     "data": {
      "text/html": [
       "<div>\n",
       "<style scoped>\n",
       "    .dataframe tbody tr th:only-of-type {\n",
       "        vertical-align: middle;\n",
       "    }\n",
       "\n",
       "    .dataframe tbody tr th {\n",
       "        vertical-align: top;\n",
       "    }\n",
       "\n",
       "    .dataframe thead th {\n",
       "        text-align: right;\n",
       "    }\n",
       "</style>\n",
       "<table border=\"1\" class=\"dataframe\">\n",
       "  <thead>\n",
       "    <tr style=\"text-align: right;\">\n",
       "      <th></th>\n",
       "      <th>Time</th>\n",
       "      <th>CRP[serum]</th>\n",
       "    </tr>\n",
       "  </thead>\n",
       "  <tbody>\n",
       "    <tr>\n",
       "      <th>500</th>\n",
       "      <td>5.00</td>\n",
       "      <td>200.458221</td>\n",
       "    </tr>\n",
       "    <tr>\n",
       "      <th>501</th>\n",
       "      <td>5.01</td>\n",
       "      <td>101.589706</td>\n",
       "    </tr>\n",
       "    <tr>\n",
       "      <th>502</th>\n",
       "      <td>5.02</td>\n",
       "      <td>103.145120</td>\n",
       "    </tr>\n",
       "    <tr>\n",
       "      <th>503</th>\n",
       "      <td>5.03</td>\n",
       "      <td>104.666835</td>\n",
       "    </tr>\n",
       "    <tr>\n",
       "      <th>504</th>\n",
       "      <td>5.04</td>\n",
       "      <td>106.155623</td>\n",
       "    </tr>\n",
       "    <tr>\n",
       "      <th>505</th>\n",
       "      <td>5.05</td>\n",
       "      <td>107.612282</td>\n",
       "    </tr>\n",
       "  </tbody>\n",
       "</table>\n",
       "</div>"
      ],
      "text/plain": [
       "     Time  CRP[serum]\n",
       "500  5.00  200.458221\n",
       "501  5.01  101.589706\n",
       "502  5.02  103.145120\n",
       "503  5.03  104.666835\n",
       "504  5.04  106.155623\n",
       "505  5.05  107.612282"
      ]
     },
     "execution_count": 121,
     "metadata": {},
     "output_type": "execute_result"
    }
   ],
   "source": [
    "df[(df_[\"Time\"]>=5)&(df_[\"Time\"]<=5.05)][[\"Time\",\"CRP[serum]\"]]"
   ]
  },
  {
   "cell_type": "markdown",
   "metadata": {},
   "source": [
    "When we examine the results within the time range between 5.0 and 5.05, we can observe a gradual increase in the concentration values.\n",
    "\n",
    "This increase reflects how the concentration dynamically evolves after the timestamp 5.0 as the system resets or recalculates values for each subsequent timestep (e.g., 5.01, 5.02, etc.)."
   ]
  },
  {
   "cell_type": "markdown",
   "metadata": {},
   "source": [
    "#### Invoke the ask_question tool"
   ]
  },
  {
   "cell_type": "markdown",
   "metadata": {},
   "source": [
    "1. Import Required Packages\n",
    "\n",
    "    Ensure that the required package (aiagents4pharma) is installed and imported correctly."
   ]
  },
  {
   "cell_type": "code",
   "execution_count": 122,
   "metadata": {},
   "outputs": [],
   "source": [
    "from aiagents4pharma.talk2biomodels.tools.ask_question import AskQuestionTool, AskQuestionInput"
   ]
  },
  {
   "cell_type": "markdown",
   "metadata": {},
   "source": [
    "2. Initialize the Tool\n",
    "\n",
    "    Create an instance of the AskQuestionTool."
   ]
  },
  {
   "cell_type": "code",
   "execution_count": 123,
   "metadata": {},
   "outputs": [],
   "source": [
    "ask_question_tool = AskQuestionTool(return_direct=True,st_session_key=\"test_key\")"
   ]
  },
  {
   "cell_type": "markdown",
   "metadata": {},
   "source": [
    "3. Define the Input Question\n",
    "\n",
    "    Define the input question in the required structure."
   ]
  },
  {
   "cell_type": "code",
   "execution_count": 128,
   "metadata": {},
   "outputs": [],
   "source": [
    "# Prepare the input for invoking the tool\n",
    "input_data = {\n",
    "    \"question\": \"What is the concentration of CRP[serum] at time 5?\",\n",
    "    \"sys_bio_model\": \"simulation_results\"\n",
    "}"
   ]
  },
  {
   "cell_type": "markdown",
   "metadata": {},
   "source": [
    "4. Use invoke\n",
    "\n",
    "    Now, use the invoke method to get the answer to the question."
   ]
  },
  {
   "cell_type": "code",
   "execution_count": 129,
   "metadata": {},
   "outputs": [
    {
     "name": "stderr",
     "output_type": "stream",
     "text": [
      "2024-12-10 15:45:19.583 Thread 'MainThread': missing ScriptRunContext! This warning can be ignored when running in bare mode.\n",
      "2024-12-10 15:45:19.586 Thread 'MainThread': missing ScriptRunContext! This warning can be ignored when running in bare mode.\n",
      "2024-12-10 15:45:19.587 Thread 'MainThread': missing ScriptRunContext! This warning can be ignored when running in bare mode.\n",
      "2024-12-10 15:45:19.588 Thread 'MainThread': missing ScriptRunContext! This warning can be ignored when running in bare mode.\n",
      "2024-12-10 15:45:19.589 Thread 'MainThread': missing ScriptRunContext! This warning can be ignored when running in bare mode.\n",
      "2024-12-10 15:45:19.590 Thread 'MainThread': missing ScriptRunContext! This warning can be ignored when running in bare mode.\n",
      "2024-12-10 15:45:19.598 Thread 'MainThread': missing ScriptRunContext! This warning can be ignored when running in bare mode.\n",
      "2024-12-10 15:45:19.600 Thread 'MainThread': missing ScriptRunContext! This warning can be ignored when running in bare mode.\n"
     ]
    }
   ],
   "source": [
    "# Invoke the tool and get the response\n",
    "response_ = ask_question_tool.invoke( input=input_data)"
   ]
  },
  {
   "cell_type": "markdown",
   "metadata": {},
   "source": [
    "5. Display the Answer\n",
    "\n",
    "    Finally, display the answer in the Jupyter notebook."
   ]
  },
  {
   "cell_type": "code",
   "execution_count": 130,
   "metadata": {},
   "outputs": [
    {
     "name": "stdout",
     "output_type": "stream",
     "text": [
      "The concentration of CRP[serum] at time 5 is 200.458221.\n"
     ]
    }
   ],
   "source": [
    "# Print the response\n",
    "print(response_)"
   ]
  },
  {
   "cell_type": "code",
   "execution_count": 133,
   "metadata": {},
   "outputs": [
    {
     "data": {
      "text/html": [
       "<div>\n",
       "<style scoped>\n",
       "    .dataframe tbody tr th:only-of-type {\n",
       "        vertical-align: middle;\n",
       "    }\n",
       "\n",
       "    .dataframe tbody tr th {\n",
       "        vertical-align: top;\n",
       "    }\n",
       "\n",
       "    .dataframe thead th {\n",
       "        text-align: right;\n",
       "    }\n",
       "</style>\n",
       "<table border=\"1\" class=\"dataframe\">\n",
       "  <thead>\n",
       "    <tr style=\"text-align: right;\">\n",
       "      <th></th>\n",
       "      <th>Time</th>\n",
       "      <th>CRP[serum]</th>\n",
       "    </tr>\n",
       "  </thead>\n",
       "  <tbody>\n",
       "    <tr>\n",
       "      <th>500</th>\n",
       "      <td>5.00</td>\n",
       "      <td>200.458221</td>\n",
       "    </tr>\n",
       "    <tr>\n",
       "      <th>501</th>\n",
       "      <td>5.01</td>\n",
       "      <td>101.589706</td>\n",
       "    </tr>\n",
       "    <tr>\n",
       "      <th>502</th>\n",
       "      <td>5.02</td>\n",
       "      <td>103.145120</td>\n",
       "    </tr>\n",
       "    <tr>\n",
       "      <th>503</th>\n",
       "      <td>5.03</td>\n",
       "      <td>104.666835</td>\n",
       "    </tr>\n",
       "    <tr>\n",
       "      <th>504</th>\n",
       "      <td>5.04</td>\n",
       "      <td>106.155623</td>\n",
       "    </tr>\n",
       "    <tr>\n",
       "      <th>505</th>\n",
       "      <td>5.05</td>\n",
       "      <td>107.612282</td>\n",
       "    </tr>\n",
       "  </tbody>\n",
       "</table>\n",
       "</div>"
      ],
      "text/plain": [
       "     Time  CRP[serum]\n",
       "500  5.00  200.458221\n",
       "501  5.01  101.589706\n",
       "502  5.02  103.145120\n",
       "503  5.03  104.666835\n",
       "504  5.04  106.155623\n",
       "505  5.05  107.612282"
      ]
     },
     "execution_count": 133,
     "metadata": {},
     "output_type": "execute_result"
    }
   ],
   "source": [
    "df[(df_[\"Time\"]>=5)&(df_[\"Time\"]<=5.05)][[\"Time\",\"CRP[serum]\"]]"
   ]
  },
  {
   "cell_type": "markdown",
   "metadata": {},
   "source": [
    "At the timestamp 5, the value obtained is 200.458221. Upon verification:\n",
    "\n",
    "- The LLM's response matches this value accurately.\n",
    "- The value is consistent with the corresponding entry in the dataframe (df) above.\n",
    "\n",
    "This alignment confirms that the model is functioning correctly, as the tool's output is validated against the simulation results."
   ]
  }
 ],
 "metadata": {
  "kernelspec": {
   "display_name": "venv",
   "language": "python",
   "name": "python3"
  },
  "language_info": {
   "codemirror_mode": {
    "name": "ipython",
    "version": 3
   },
   "file_extension": ".py",
   "mimetype": "text/x-python",
   "name": "python",
   "nbconvert_exporter": "python",
   "pygments_lexer": "ipython3",
   "version": "3.12.8"
  }
 },
 "nbformat": 4,
 "nbformat_minor": 2
}
